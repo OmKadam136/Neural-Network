{
 "cells": [
  {
   "cell_type": "code",
   "execution_count": 6,
   "id": "262d16e0",
   "metadata": {},
   "outputs": [],
   "source": [
    "import pandas as pd\n",
    "import pathlib\n",
    "import tensorflow as tf\n",
    "from tensorflow import keras\n",
    "from tensorflow.keras import layers\n",
    "\n",
    "import matplotlib.pyplot as plt\n",
    "from sklearn.preprocessing import StandardScaler\n",
    "from keras.models import Sequential\n",
    "from keras.layers import Dense"
   ]
  },
  {
   "cell_type": "code",
   "execution_count": 7,
   "id": "a8fbae14",
   "metadata": {},
   "outputs": [],
   "source": [
    "gas=pd.read_csv('gas_turbines (1).csv.crdownload')"
   ]
  },
  {
   "cell_type": "markdown",
   "id": "103d1680",
   "metadata": {},
   "source": [
    "## EDA"
   ]
  },
  {
   "cell_type": "code",
   "execution_count": 8,
   "id": "dfd6a566",
   "metadata": {},
   "outputs": [
    {
     "data": {
      "text/plain": [
       "(12747, 11)"
      ]
     },
     "execution_count": 8,
     "metadata": {},
     "output_type": "execute_result"
    }
   ],
   "source": [
    "gas.shape"
   ]
  },
  {
   "cell_type": "code",
   "execution_count": 9,
   "id": "1acee0a5",
   "metadata": {},
   "outputs": [
    {
     "data": {
      "text/html": [
       "<div>\n",
       "<style scoped>\n",
       "    .dataframe tbody tr th:only-of-type {\n",
       "        vertical-align: middle;\n",
       "    }\n",
       "\n",
       "    .dataframe tbody tr th {\n",
       "        vertical-align: top;\n",
       "    }\n",
       "\n",
       "    .dataframe thead th {\n",
       "        text-align: right;\n",
       "    }\n",
       "</style>\n",
       "<table border=\"1\" class=\"dataframe\">\n",
       "  <thead>\n",
       "    <tr style=\"text-align: right;\">\n",
       "      <th></th>\n",
       "      <th>AT</th>\n",
       "      <th>AP</th>\n",
       "      <th>AH</th>\n",
       "      <th>AFDP</th>\n",
       "      <th>GTEP</th>\n",
       "      <th>TIT</th>\n",
       "      <th>TAT</th>\n",
       "      <th>TEY</th>\n",
       "      <th>CDP</th>\n",
       "      <th>CO</th>\n",
       "      <th>NOX</th>\n",
       "    </tr>\n",
       "  </thead>\n",
       "  <tbody>\n",
       "    <tr>\n",
       "      <th>0</th>\n",
       "      <td>6.8594</td>\n",
       "      <td>1007.9</td>\n",
       "      <td>96.799</td>\n",
       "      <td>3.5000</td>\n",
       "      <td>19.663</td>\n",
       "      <td>1059.2</td>\n",
       "      <td>550.00</td>\n",
       "      <td>114.70</td>\n",
       "      <td>10.605</td>\n",
       "      <td>3.1547</td>\n",
       "      <td>82.722</td>\n",
       "    </tr>\n",
       "    <tr>\n",
       "      <th>1</th>\n",
       "      <td>6.7850</td>\n",
       "      <td>1008.4</td>\n",
       "      <td>97.118</td>\n",
       "      <td>3.4998</td>\n",
       "      <td>19.728</td>\n",
       "      <td>1059.3</td>\n",
       "      <td>550.00</td>\n",
       "      <td>114.72</td>\n",
       "      <td>10.598</td>\n",
       "      <td>3.2363</td>\n",
       "      <td>82.776</td>\n",
       "    </tr>\n",
       "    <tr>\n",
       "      <th>2</th>\n",
       "      <td>6.8977</td>\n",
       "      <td>1008.8</td>\n",
       "      <td>95.939</td>\n",
       "      <td>3.4824</td>\n",
       "      <td>19.779</td>\n",
       "      <td>1059.4</td>\n",
       "      <td>549.87</td>\n",
       "      <td>114.71</td>\n",
       "      <td>10.601</td>\n",
       "      <td>3.2012</td>\n",
       "      <td>82.468</td>\n",
       "    </tr>\n",
       "    <tr>\n",
       "      <th>3</th>\n",
       "      <td>7.0569</td>\n",
       "      <td>1009.2</td>\n",
       "      <td>95.249</td>\n",
       "      <td>3.4805</td>\n",
       "      <td>19.792</td>\n",
       "      <td>1059.6</td>\n",
       "      <td>549.99</td>\n",
       "      <td>114.72</td>\n",
       "      <td>10.606</td>\n",
       "      <td>3.1923</td>\n",
       "      <td>82.670</td>\n",
       "    </tr>\n",
       "    <tr>\n",
       "      <th>4</th>\n",
       "      <td>7.3978</td>\n",
       "      <td>1009.7</td>\n",
       "      <td>95.150</td>\n",
       "      <td>3.4976</td>\n",
       "      <td>19.765</td>\n",
       "      <td>1059.7</td>\n",
       "      <td>549.98</td>\n",
       "      <td>114.72</td>\n",
       "      <td>10.612</td>\n",
       "      <td>3.2484</td>\n",
       "      <td>82.311</td>\n",
       "    </tr>\n",
       "  </tbody>\n",
       "</table>\n",
       "</div>"
      ],
      "text/plain": [
       "       AT      AP      AH    AFDP    GTEP     TIT     TAT     TEY     CDP  \\\n",
       "0  6.8594  1007.9  96.799  3.5000  19.663  1059.2  550.00  114.70  10.605   \n",
       "1  6.7850  1008.4  97.118  3.4998  19.728  1059.3  550.00  114.72  10.598   \n",
       "2  6.8977  1008.8  95.939  3.4824  19.779  1059.4  549.87  114.71  10.601   \n",
       "3  7.0569  1009.2  95.249  3.4805  19.792  1059.6  549.99  114.72  10.606   \n",
       "4  7.3978  1009.7  95.150  3.4976  19.765  1059.7  549.98  114.72  10.612   \n",
       "\n",
       "       CO     NOX  \n",
       "0  3.1547  82.722  \n",
       "1  3.2363  82.776  \n",
       "2  3.2012  82.468  \n",
       "3  3.1923  82.670  \n",
       "4  3.2484  82.311  "
      ]
     },
     "execution_count": 9,
     "metadata": {},
     "output_type": "execute_result"
    }
   ],
   "source": [
    "gas.head()"
   ]
  },
  {
   "cell_type": "code",
   "execution_count": 10,
   "id": "0dd492df",
   "metadata": {},
   "outputs": [
    {
     "data": {
      "text/html": [
       "<div>\n",
       "<style scoped>\n",
       "    .dataframe tbody tr th:only-of-type {\n",
       "        vertical-align: middle;\n",
       "    }\n",
       "\n",
       "    .dataframe tbody tr th {\n",
       "        vertical-align: top;\n",
       "    }\n",
       "\n",
       "    .dataframe thead th {\n",
       "        text-align: right;\n",
       "    }\n",
       "</style>\n",
       "<table border=\"1\" class=\"dataframe\">\n",
       "  <thead>\n",
       "    <tr style=\"text-align: right;\">\n",
       "      <th></th>\n",
       "      <th>AT</th>\n",
       "      <th>AP</th>\n",
       "      <th>AH</th>\n",
       "      <th>AFDP</th>\n",
       "      <th>GTEP</th>\n",
       "      <th>TIT</th>\n",
       "      <th>TAT</th>\n",
       "      <th>TEY</th>\n",
       "      <th>CDP</th>\n",
       "      <th>CO</th>\n",
       "      <th>NOX</th>\n",
       "    </tr>\n",
       "  </thead>\n",
       "  <tbody>\n",
       "    <tr>\n",
       "      <th>12742</th>\n",
       "      <td>22.405</td>\n",
       "      <td>1013.2</td>\n",
       "      <td>90.999</td>\n",
       "      <td>3.1904</td>\n",
       "      <td>20.058</td>\n",
       "      <td>1059.0</td>\n",
       "      <td>550.06</td>\n",
       "      <td>111.23</td>\n",
       "      <td>10.549</td>\n",
       "      <td>2.1916</td>\n",
       "      <td>49.988</td>\n",
       "    </tr>\n",
       "    <tr>\n",
       "      <th>12743</th>\n",
       "      <td>22.350</td>\n",
       "      <td>1013.3</td>\n",
       "      <td>92.745</td>\n",
       "      <td>2.9947</td>\n",
       "      <td>18.440</td>\n",
       "      <td>1049.4</td>\n",
       "      <td>549.84</td>\n",
       "      <td>103.85</td>\n",
       "      <td>10.127</td>\n",
       "      <td>3.9442</td>\n",
       "      <td>48.855</td>\n",
       "    </tr>\n",
       "    <tr>\n",
       "      <th>12744</th>\n",
       "      <td>22.351</td>\n",
       "      <td>1013.4</td>\n",
       "      <td>93.447</td>\n",
       "      <td>2.9711</td>\n",
       "      <td>18.423</td>\n",
       "      <td>1049.3</td>\n",
       "      <td>549.98</td>\n",
       "      <td>103.77</td>\n",
       "      <td>10.026</td>\n",
       "      <td>4.2391</td>\n",
       "      <td>49.590</td>\n",
       "    </tr>\n",
       "    <tr>\n",
       "      <th>12745</th>\n",
       "      <td>22.987</td>\n",
       "      <td>1013.7</td>\n",
       "      <td>93.018</td>\n",
       "      <td>3.2344</td>\n",
       "      <td>20.206</td>\n",
       "      <td>1060.0</td>\n",
       "      <td>550.13</td>\n",
       "      <td>111.40</td>\n",
       "      <td>10.610</td>\n",
       "      <td>2.7860</td>\n",
       "      <td>50.672</td>\n",
       "    </tr>\n",
       "    <tr>\n",
       "      <th>12746</th>\n",
       "      <td>24.303</td>\n",
       "      <td>1013.9</td>\n",
       "      <td>88.424</td>\n",
       "      <td>3.2654</td>\n",
       "      <td>20.335</td>\n",
       "      <td>1060.7</td>\n",
       "      <td>549.98</td>\n",
       "      <td>111.57</td>\n",
       "      <td>10.643</td>\n",
       "      <td>2.5900</td>\n",
       "      <td>NaN</td>\n",
       "    </tr>\n",
       "  </tbody>\n",
       "</table>\n",
       "</div>"
      ],
      "text/plain": [
       "           AT      AP      AH    AFDP    GTEP     TIT     TAT     TEY     CDP  \\\n",
       "12742  22.405  1013.2  90.999  3.1904  20.058  1059.0  550.06  111.23  10.549   \n",
       "12743  22.350  1013.3  92.745  2.9947  18.440  1049.4  549.84  103.85  10.127   \n",
       "12744  22.351  1013.4  93.447  2.9711  18.423  1049.3  549.98  103.77  10.026   \n",
       "12745  22.987  1013.7  93.018  3.2344  20.206  1060.0  550.13  111.40  10.610   \n",
       "12746  24.303  1013.9  88.424  3.2654  20.335  1060.7  549.98  111.57  10.643   \n",
       "\n",
       "           CO     NOX  \n",
       "12742  2.1916  49.988  \n",
       "12743  3.9442  48.855  \n",
       "12744  4.2391  49.590  \n",
       "12745  2.7860  50.672  \n",
       "12746  2.5900     NaN  "
      ]
     },
     "execution_count": 10,
     "metadata": {},
     "output_type": "execute_result"
    }
   ],
   "source": [
    "gas.tail()"
   ]
  },
  {
   "cell_type": "code",
   "execution_count": 11,
   "id": "e9abcd93",
   "metadata": {},
   "outputs": [
    {
     "name": "stdout",
     "output_type": "stream",
     "text": [
      "<class 'pandas.core.frame.DataFrame'>\n",
      "RangeIndex: 12747 entries, 0 to 12746\n",
      "Data columns (total 11 columns):\n",
      " #   Column  Non-Null Count  Dtype  \n",
      "---  ------  --------------  -----  \n",
      " 0   AT      12747 non-null  float64\n",
      " 1   AP      12747 non-null  float64\n",
      " 2   AH      12747 non-null  float64\n",
      " 3   AFDP    12747 non-null  float64\n",
      " 4   GTEP    12747 non-null  float64\n",
      " 5   TIT     12747 non-null  float64\n",
      " 6   TAT     12747 non-null  float64\n",
      " 7   TEY     12747 non-null  float64\n",
      " 8   CDP     12747 non-null  float64\n",
      " 9   CO      12747 non-null  float64\n",
      " 10  NOX     12746 non-null  float64\n",
      "dtypes: float64(11)\n",
      "memory usage: 1.1 MB\n"
     ]
    }
   ],
   "source": [
    "gas.info()"
   ]
  },
  {
   "cell_type": "code",
   "execution_count": 14,
   "id": "5d09a60f",
   "metadata": {},
   "outputs": [
    {
     "data": {
      "text/html": [
       "<div>\n",
       "<style scoped>\n",
       "    .dataframe tbody tr th:only-of-type {\n",
       "        vertical-align: middle;\n",
       "    }\n",
       "\n",
       "    .dataframe tbody tr th {\n",
       "        vertical-align: top;\n",
       "    }\n",
       "\n",
       "    .dataframe thead th {\n",
       "        text-align: right;\n",
       "    }\n",
       "</style>\n",
       "<table border=\"1\" class=\"dataframe\">\n",
       "  <thead>\n",
       "    <tr style=\"text-align: right;\">\n",
       "      <th></th>\n",
       "      <th>AT</th>\n",
       "      <th>AP</th>\n",
       "      <th>AH</th>\n",
       "      <th>AFDP</th>\n",
       "      <th>GTEP</th>\n",
       "      <th>TIT</th>\n",
       "      <th>TAT</th>\n",
       "      <th>TEY</th>\n",
       "      <th>CDP</th>\n",
       "      <th>CO</th>\n",
       "      <th>NOX</th>\n",
       "    </tr>\n",
       "  </thead>\n",
       "  <tbody>\n",
       "  </tbody>\n",
       "</table>\n",
       "</div>"
      ],
      "text/plain": [
       "Empty DataFrame\n",
       "Columns: [AT, AP, AH, AFDP, GTEP, TIT, TAT, TEY, CDP, CO, NOX]\n",
       "Index: []"
      ]
     },
     "execution_count": 14,
     "metadata": {},
     "output_type": "execute_result"
    }
   ],
   "source": [
    "gas[gas.duplicated()]"
   ]
  },
  {
   "cell_type": "code",
   "execution_count": 15,
   "id": "45a274ee",
   "metadata": {},
   "outputs": [
    {
     "data": {
      "text/plain": [
       "Text(0.5, 1.0, 'Correlation with Turbine energy yield \\n')"
      ]
     },
     "execution_count": 15,
     "metadata": {},
     "output_type": "execute_result"
    },
    {
     "data": {
      "image/png": "[encoded data removed]",
      "text/plain": [
       "<Figure size 1296x720 with 1 Axes>"
      ]
     },
     "metadata": {
      "needs_background": "light"
     },
     "output_type": "display_data"
    }
   ],
   "source": [
    "# correlation with TEY\n",
    "\n",
    "data2 = gas.copy()\n",
    "\n",
    "correlations = data2.corrwith(gas[\"TEY\"])\n",
    "correlations = correlations[correlations!=1]\n",
    "positive_correlations = correlations[correlations >0].sort_values(ascending = False)\n",
    "negative_correlations =correlations[correlations<0].sort_values(ascending = False)\n",
    "\n",
    "correlations.plot.bar(\n",
    "        figsize = (18, 10), \n",
    "        fontsize = 15, \n",
    "        color = 'b',\n",
    "        rot = 90, grid = True)\n",
    "plt.title('Correlation with Turbine energy yield \\n',\n",
    "horizontalalignment=\"center\", fontstyle = \"normal\", \n",
    "fontsize = \"22\", fontfamily = \"sans-serif\")"
   ]
  },
  {
   "cell_type": "markdown",
   "id": "bd89b2a4",
   "metadata": {},
   "source": [
    "## Preprocessing"
   ]
  },
  {
   "cell_type": "code",
   "execution_count": 19,
   "id": "d9013542",
   "metadata": {},
   "outputs": [],
   "source": [
    "#Split the data into train and test\n",
    "train_data=gas.sample(frac=0.8,random_state=0)\n",
    "test_data=gas.drop(train_data.index)"
   ]
  },
  {
   "cell_type": "code",
   "execution_count": 20,
   "id": "b0326ebd",
   "metadata": {},
   "outputs": [
    {
     "data": {
      "text/html": [
       "<div>\n",
       "<style scoped>\n",
       "    .dataframe tbody tr th:only-of-type {\n",
       "        vertical-align: middle;\n",
       "    }\n",
       "\n",
       "    .dataframe tbody tr th {\n",
       "        vertical-align: top;\n",
       "    }\n",
       "\n",
       "    .dataframe thead th {\n",
       "        text-align: right;\n",
       "    }\n",
       "</style>\n",
       "<table border=\"1\" class=\"dataframe\">\n",
       "  <thead>\n",
       "    <tr style=\"text-align: right;\">\n",
       "      <th></th>\n",
       "      <th>count</th>\n",
       "      <th>mean</th>\n",
       "      <th>std</th>\n",
       "      <th>min</th>\n",
       "      <th>25%</th>\n",
       "      <th>50%</th>\n",
       "      <th>75%</th>\n",
       "      <th>max</th>\n",
       "    </tr>\n",
       "  </thead>\n",
       "  <tbody>\n",
       "    <tr>\n",
       "      <th>AT</th>\n",
       "      <td>10198.0</td>\n",
       "      <td>17.913486</td>\n",
       "      <td>7.738650</td>\n",
       "      <td>0.522300</td>\n",
       "      <td>11.353250</td>\n",
       "      <td>18.48950</td>\n",
       "      <td>24.136750</td>\n",
       "      <td>34.9290</td>\n",
       "    </tr>\n",
       "    <tr>\n",
       "      <th>AP</th>\n",
       "      <td>10198.0</td>\n",
       "      <td>1012.605228</td>\n",
       "      <td>6.103549</td>\n",
       "      <td>986.160000</td>\n",
       "      <td>1008.600000</td>\n",
       "      <td>1012.40000</td>\n",
       "      <td>1016.200000</td>\n",
       "      <td>1030.6000</td>\n",
       "    </tr>\n",
       "    <tr>\n",
       "      <th>AH</th>\n",
       "      <td>10198.0</td>\n",
       "      <td>79.155386</td>\n",
       "      <td>14.071567</td>\n",
       "      <td>30.344000</td>\n",
       "      <td>69.597500</td>\n",
       "      <td>82.70000</td>\n",
       "      <td>90.195000</td>\n",
       "      <td>100.2000</td>\n",
       "    </tr>\n",
       "    <tr>\n",
       "      <th>AFDP</th>\n",
       "      <td>10198.0</td>\n",
       "      <td>4.221822</td>\n",
       "      <td>0.785758</td>\n",
       "      <td>2.087400</td>\n",
       "      <td>3.729725</td>\n",
       "      <td>4.23235</td>\n",
       "      <td>4.562575</td>\n",
       "      <td>7.6106</td>\n",
       "    </tr>\n",
       "    <tr>\n",
       "      <th>GTEP</th>\n",
       "      <td>10198.0</td>\n",
       "      <td>25.488818</td>\n",
       "      <td>4.175936</td>\n",
       "      <td>18.028000</td>\n",
       "      <td>23.391500</td>\n",
       "      <td>25.15450</td>\n",
       "      <td>27.275000</td>\n",
       "      <td>37.4020</td>\n",
       "    </tr>\n",
       "    <tr>\n",
       "      <th>TIT</th>\n",
       "      <td>10198.0</td>\n",
       "      <td>1084.026250</td>\n",
       "      <td>16.250564</td>\n",
       "      <td>1024.600000</td>\n",
       "      <td>1081.300000</td>\n",
       "      <td>1088.80000</td>\n",
       "      <td>1096.200000</td>\n",
       "      <td>1100.6000</td>\n",
       "    </tr>\n",
       "    <tr>\n",
       "      <th>TAT</th>\n",
       "      <td>10198.0</td>\n",
       "      <td>545.455613</td>\n",
       "      <td>7.820903</td>\n",
       "      <td>513.060000</td>\n",
       "      <td>542.450000</td>\n",
       "      <td>549.89000</td>\n",
       "      <td>550.060000</td>\n",
       "      <td>550.5600</td>\n",
       "    </tr>\n",
       "    <tr>\n",
       "      <th>CDP</th>\n",
       "      <td>10198.0</td>\n",
       "      <td>12.109206</td>\n",
       "      <td>1.099437</td>\n",
       "      <td>9.904400</td>\n",
       "      <td>11.672000</td>\n",
       "      <td>12.03500</td>\n",
       "      <td>12.591250</td>\n",
       "      <td>15.0550</td>\n",
       "    </tr>\n",
       "    <tr>\n",
       "      <th>CO</th>\n",
       "      <td>10198.0</td>\n",
       "      <td>1.946486</td>\n",
       "      <td>2.177489</td>\n",
       "      <td>0.000388</td>\n",
       "      <td>0.819180</td>\n",
       "      <td>1.38530</td>\n",
       "      <td>2.167800</td>\n",
       "      <td>44.1030</td>\n",
       "    </tr>\n",
       "    <tr>\n",
       "      <th>NOX</th>\n",
       "      <td>10197.0</td>\n",
       "      <td>67.796149</td>\n",
       "      <td>10.176496</td>\n",
       "      <td>41.777000</td>\n",
       "      <td>61.074000</td>\n",
       "      <td>66.40900</td>\n",
       "      <td>73.128000</td>\n",
       "      <td>119.8900</td>\n",
       "    </tr>\n",
       "  </tbody>\n",
       "</table>\n",
       "</div>"
      ],
      "text/plain": [
       "        count         mean        std          min          25%         50%  \\\n",
       "AT    10198.0    17.913486   7.738650     0.522300    11.353250    18.48950   \n",
       "AP    10198.0  1012.605228   6.103549   986.160000  1008.600000  1012.40000   \n",
       "AH    10198.0    79.155386  14.071567    30.344000    69.597500    82.70000   \n",
       "AFDP  10198.0     4.221822   0.785758     2.087400     3.729725     4.23235   \n",
       "GTEP  10198.0    25.488818   4.175936    18.028000    23.391500    25.15450   \n",
       "TIT   10198.0  1084.026250  16.250564  1024.600000  1081.300000  1088.80000   \n",
       "TAT   10198.0   545.455613   7.820903   513.060000   542.450000   549.89000   \n",
       "CDP   10198.0    12.109206   1.099437     9.904400    11.672000    12.03500   \n",
       "CO    10198.0     1.946486   2.177489     0.000388     0.819180     1.38530   \n",
       "NOX   10197.0    67.796149  10.176496    41.777000    61.074000    66.40900   \n",
       "\n",
       "              75%        max  \n",
       "AT      24.136750    34.9290  \n",
       "AP    1016.200000  1030.6000  \n",
       "AH      90.195000   100.2000  \n",
       "AFDP     4.562575     7.6106  \n",
       "GTEP    27.275000    37.4020  \n",
       "TIT   1096.200000  1100.6000  \n",
       "TAT    550.060000   550.5600  \n",
       "CDP     12.591250    15.0550  \n",
       "CO       2.167800    44.1030  \n",
       "NOX     73.128000   119.8900  "
      ]
     },
     "execution_count": 20,
     "metadata": {},
     "output_type": "execute_result"
    }
   ],
   "source": [
    "# Look overall statistics\n",
    "train_stats=train_data.describe()\n",
    "train_stats.pop('TEY')\n",
    "train_stats=train_stats.transpose()\n",
    "train_stats"
   ]
  },
  {
   "cell_type": "code",
   "execution_count": 21,
   "id": "ba8195c3",
   "metadata": {},
   "outputs": [],
   "source": [
    "# Split features from labels\n",
    "train_labels=train_data.pop('TEY')\n",
    "test_labels=test_data.pop('TEY')"
   ]
  },
  {
   "cell_type": "code",
   "execution_count": 22,
   "id": "e0a4dd2f",
   "metadata": {},
   "outputs": [],
   "source": [
    "# Normalize the data\n",
    "def norm(x):\n",
    "    return (x-train_stats['mean']) / train_stats['std']\n",
    "normed_train_data=norm(train_data)\n",
    "normed_test_data=norm(test_data)\n"
   ]
  },
  {
   "cell_type": "markdown",
   "id": "6d999c19",
   "metadata": {},
   "source": [
    "## Model Building"
   ]
  },
  {
   "cell_type": "code",
   "execution_count": 25,
   "id": "2fa5429e",
   "metadata": {},
   "outputs": [],
   "source": [
    "# Build the model\n",
    "def build_model():\n",
    "    model = keras.Sequential([\n",
    "        layers.Dense(64, activation=tf.nn.relu, input_shape=[len(train_data.keys())]),\n",
    "        layers.Dense(64, activation=tf.nn.relu),\n",
    "        layers.Dense(1)\n",
    "    ])\n",
    "    optimizer=tf.keras.optimizers.RMSprop(0.001)\n",
    "    model.compile(loss='mse',\n",
    "                 optimizer=optimizer,\n",
    "                 metrics=['mae','mse','accuracy'])\n",
    "    return model"
   ]
  },
  {
   "cell_type": "code",
   "execution_count": 26,
   "id": "4342dfe0",
   "metadata": {},
   "outputs": [],
   "source": [
    "model=build_model()"
   ]
  },
  {
   "cell_type": "code",
   "execution_count": 28,
   "id": "c848a477",
   "metadata": {},
   "outputs": [
    {
     "name": "stdout",
     "output_type": "stream",
     "text": [
      "Model: \"sequential\"\n",
      "_________________________________________________________________\n",
      " Layer (type)                Output Shape              Param #   \n",
      "=================================================================\n",
      " dense (Dense)               (None, 64)                704       \n",
      "                                                                 \n",
      " dense_1 (Dense)             (None, 64)                4160      \n",
      "                                                                 \n",
      " dense_2 (Dense)             (None, 1)                 65        \n",
      "                                                                 \n",
      "=================================================================\n",
      "Total params: 4,929\n",
      "Trainable params: 4,929\n",
      "Non-trainable params: 0\n",
      "_________________________________________________________________\n"
     ]
    }
   ],
   "source": [
    "# Inspect the model\n",
    "model.summary()"
   ]
  },
  {
   "cell_type": "code",
   "execution_count": 31,
   "id": "4f9ed28b",
   "metadata": {},
   "outputs": [
    {
     "name": "stdout",
     "output_type": "stream",
     "text": [
      "1/1 [==============================] - 0s 16ms/step\n"
     ]
    },
    {
     "data": {
      "text/plain": [
       "array([[-0.30494457],\n",
       "       [-0.11363931],\n",
       "       [ 0.12786502],\n",
       "       [-0.3646868 ],\n",
       "       [-0.12012777],\n",
       "       [ 0.09855555],\n",
       "       [-0.46982026],\n",
       "       [-0.2899565 ],\n",
       "       [-0.15360776],\n",
       "       [-0.35016975]], dtype=float32)"
      ]
     },
     "execution_count": 31,
     "metadata": {},
     "output_type": "execute_result"
    }
   ],
   "source": [
    "example_batch = normed_train_data[:10]\n",
    "example_result= model.predict(example_batch)\n",
    "example_result"
   ]
  },
  {
   "cell_type": "code",
   "execution_count": 39,
   "id": "3dcecd4b",
   "metadata": {},
   "outputs": [
    {
     "name": "stdout",
     "output_type": "stream",
     "text": [
      "\n",
      "."
     ]
    }
   ],
   "source": [
    "class PrintDot(keras.callbacks.Callback):\n",
    "    def on_epoch_end(self, epoch, logs):\n",
    "        if epoch % 100 == 0: \n",
    "            print('')\n",
    "            print('.', end='')\n",
    "EPOCHS=100\n",
    "history = model.fit(\n",
    " normed_train_data,train_labels,\n",
    " epochs=EPOCHS, validation_split = 0.2, verbose = 0,\n",
    " callbacks=[PrintDot()])\n"
   ]
  },
  {
   "cell_type": "code",
   "execution_count": 40,
   "id": "3f8675b9",
   "metadata": {},
   "outputs": [
    {
     "data": {
      "text/html": [
       "<div>\n",
       "<style scoped>\n",
       "    .dataframe tbody tr th:only-of-type {\n",
       "        vertical-align: middle;\n",
       "    }\n",
       "\n",
       "    .dataframe tbody tr th {\n",
       "        vertical-align: top;\n",
       "    }\n",
       "\n",
       "    .dataframe thead th {\n",
       "        text-align: right;\n",
       "    }\n",
       "</style>\n",
       "<table border=\"1\" class=\"dataframe\">\n",
       "  <thead>\n",
       "    <tr style=\"text-align: right;\">\n",
       "      <th></th>\n",
       "      <th>loss</th>\n",
       "      <th>mae</th>\n",
       "      <th>mse</th>\n",
       "      <th>accuracy</th>\n",
       "      <th>val_loss</th>\n",
       "      <th>val_mae</th>\n",
       "      <th>val_mse</th>\n",
       "      <th>val_accuracy</th>\n",
       "      <th>epoch</th>\n",
       "    </tr>\n",
       "  </thead>\n",
       "  <tbody>\n",
       "    <tr>\n",
       "      <th>95</th>\n",
       "      <td>NaN</td>\n",
       "      <td>NaN</td>\n",
       "      <td>NaN</td>\n",
       "      <td>0.0</td>\n",
       "      <td>NaN</td>\n",
       "      <td>NaN</td>\n",
       "      <td>NaN</td>\n",
       "      <td>0.0</td>\n",
       "      <td>95</td>\n",
       "    </tr>\n",
       "    <tr>\n",
       "      <th>96</th>\n",
       "      <td>NaN</td>\n",
       "      <td>NaN</td>\n",
       "      <td>NaN</td>\n",
       "      <td>0.0</td>\n",
       "      <td>NaN</td>\n",
       "      <td>NaN</td>\n",
       "      <td>NaN</td>\n",
       "      <td>0.0</td>\n",
       "      <td>96</td>\n",
       "    </tr>\n",
       "    <tr>\n",
       "      <th>97</th>\n",
       "      <td>NaN</td>\n",
       "      <td>NaN</td>\n",
       "      <td>NaN</td>\n",
       "      <td>0.0</td>\n",
       "      <td>NaN</td>\n",
       "      <td>NaN</td>\n",
       "      <td>NaN</td>\n",
       "      <td>0.0</td>\n",
       "      <td>97</td>\n",
       "    </tr>\n",
       "    <tr>\n",
       "      <th>98</th>\n",
       "      <td>NaN</td>\n",
       "      <td>NaN</td>\n",
       "      <td>NaN</td>\n",
       "      <td>0.0</td>\n",
       "      <td>NaN</td>\n",
       "      <td>NaN</td>\n",
       "      <td>NaN</td>\n",
       "      <td>0.0</td>\n",
       "      <td>98</td>\n",
       "    </tr>\n",
       "    <tr>\n",
       "      <th>99</th>\n",
       "      <td>NaN</td>\n",
       "      <td>NaN</td>\n",
       "      <td>NaN</td>\n",
       "      <td>0.0</td>\n",
       "      <td>NaN</td>\n",
       "      <td>NaN</td>\n",
       "      <td>NaN</td>\n",
       "      <td>0.0</td>\n",
       "      <td>99</td>\n",
       "    </tr>\n",
       "  </tbody>\n",
       "</table>\n",
       "</div>"
      ],
      "text/plain": [
       "    loss  mae  mse  accuracy  val_loss  val_mae  val_mse  val_accuracy  epoch\n",
       "95   NaN  NaN  NaN       0.0       NaN      NaN      NaN           0.0     95\n",
       "96   NaN  NaN  NaN       0.0       NaN      NaN      NaN           0.0     96\n",
       "97   NaN  NaN  NaN       0.0       NaN      NaN      NaN           0.0     97\n",
       "98   NaN  NaN  NaN       0.0       NaN      NaN      NaN           0.0     98\n",
       "99   NaN  NaN  NaN       0.0       NaN      NaN      NaN           0.0     99"
      ]
     },
     "execution_count": 40,
     "metadata": {},
     "output_type": "execute_result"
    }
   ],
   "source": [
    "hist=pd.DataFrame(history.history)\n",
    "hist['epoch']=history.epoch\n",
    "hist.tail()"
   ]
  },
  {
   "cell_type": "code",
   "execution_count": 41,
   "id": "97b7423f",
   "metadata": {},
   "outputs": [
    {
     "data": {
      "image/png": "[encoded data removed]",
      "text/plain": [
       "<Figure size 432x288 with 1 Axes>"
      ]
     },
     "metadata": {
      "needs_background": "light"
     },
     "output_type": "display_data"
    },
    {
     "data": {
      "image/png": "[encoded data removed]",
      "text/plain": [
       "<Figure size 432x288 with 1 Axes>"
      ]
     },
     "metadata": {
      "needs_background": "light"
     },
     "output_type": "display_data"
    }
   ],
   "source": [
    "# Visualize the model's training progress\n",
    "def plot_history(history):\n",
    "    hist = pd.DataFrame(history.history)\n",
    "    hist['epoch']=history.epoch\n",
    "    \n",
    "    plt.figure()\n",
    "    plt.xlabel('Epoch')\n",
    "    plt.ylabel('Mean Abs Error [MPG]')\n",
    "    plt.plot(hist['epoch'], hist['mae'],\n",
    "            label='Train Error')\n",
    "    plt.plot(hist['epoch'], hist['val_mae'],\n",
    "            label='Val Error')\n",
    "    plt.legend()\n",
    "    plt.ylim([0,5])\n",
    "    \n",
    "    plt.figure()\n",
    "    plt.xlabel('Epoch')\n",
    "    plt.ylabel('Mean Square Error [$MPG^2$]')\n",
    "    plt.plot(hist['epoch'],hist['mse'],\n",
    "            label='Train Error')\n",
    "    plt.plot(hist['epoch'],hist['val_mse'],\n",
    "            label='Val Error')\n",
    "    plt.legend()\n",
    "    plt.ylim([0,20])\n",
    "\n",
    "plot_history(history)"
   ]
  },
  {
   "cell_type": "code",
   "execution_count": 42,
   "id": "aae0e2be",
   "metadata": {},
   "outputs": [
    {
     "name": "stdout",
     "output_type": "stream",
     "text": [
      "\n",
      "."
     ]
    },
    {
     "data": {
      "image/png": "[encoded data removed]",
      "text/plain": [
       "<Figure size 432x288 with 1 Axes>"
      ]
     },
     "metadata": {
      "needs_background": "light"
     },
     "output_type": "display_data"
    },
    {
     "data": {
      "image/png": "[encoded data removed]",
      "text/plain": [
       "<Figure size 432x288 with 1 Axes>"
      ]
     },
     "metadata": {
      "needs_background": "light"
     },
     "output_type": "display_data"
    }
   ],
   "source": [
    "model = build_model()\n",
    "# The patience parameter is the amount of epochs to check for improvement\n",
    "early_stop= keras.callbacks.EarlyStopping(monitor='val_loss',patience=10)\n",
    "\n",
    "history=model.fit (normed_train_data,train_labels,epochs=EPOCHS,\n",
    "                  validation_split = 0.2, verbose=0, callbacks=[early_stop,PrintDot()])\n",
    "plot_history(history)"
   ]
  },
  {
   "cell_type": "code",
   "execution_count": 43,
   "id": "e76b480c",
   "metadata": {},
   "outputs": [
    {
     "name": "stdout",
     "output_type": "stream",
     "text": [
      "Testing set Mean Abs Error:  nan\n"
     ]
    }
   ],
   "source": [
    "# let's see how well the model generalizes by using test set\n",
    "d=model.evaluate(normed_test_data,test_labels,verbose=0)\n",
    "print('Testing set Mean Abs Error: ',d[1]*100)"
   ]
  },
  {
   "cell_type": "markdown",
   "id": "9c55af8e",
   "metadata": {},
   "source": [
    "## Predict"
   ]
  },
  {
   "cell_type": "code",
   "execution_count": 44,
   "id": "2c5b1aa3",
   "metadata": {},
   "outputs": [
    {
     "name": "stdout",
     "output_type": "stream",
     "text": [
      "80/80 [==============================] - 0s 603us/step\n"
     ]
    },
    {
     "data": {
      "image/png": "[encoded data removed]",
      "text/plain": [
       "<Figure size 432x288 with 1 Axes>"
      ]
     },
     "metadata": {
      "needs_background": "light"
     },
     "output_type": "display_data"
    }
   ],
   "source": [
    "# fianlly, predict TEY values using data in the testing set:\n",
    "test_prediction=model.predict(normed_test_data).flatten()\n",
    "plt.scatter(test_labels, test_prediction)\n",
    "plt.xlabel('True Value [TEY]')\n",
    "plt.ylabel('Prediction [TEY]')\n",
    "plt.axis('equal')\n",
    "plt.axis('square')\n",
    "plt.xlim([0,plt.xlim()[1]])\n",
    "plt.ylim([0,plt.ylim()[1]])\n",
    "_=plt.plot([-100,100],[-100,100])"
   ]
  },
  {
   "cell_type": "code",
   "execution_count": null,
   "id": "c6202cdd",
   "metadata": {},
   "outputs": [],
   "source": []
  }
 ],
 "metadata": {
  "kernelspec": {
   "display_name": "Python 3 (ipykernel)",
   "language": "python",
   "name": "python3"
  },
  "language_info": {
   "codemirror_mode": {
    "name": "ipython",
    "version": 3
   },
   "file_extension": ".py",
   "mimetype": "text/x-python",
   "name": "python",
   "nbconvert_exporter": "python",
   "pygments_lexer": "ipython3",
   "version": "3.9.7"
  }
 },
 "nbformat": 4,
 "nbformat_minor": 5
}
